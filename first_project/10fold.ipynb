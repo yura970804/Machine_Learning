{
 "cells": [
  {
   "cell_type": "markdown",
   "id": "77626164-6663-452a-b3d6-40a39e33481b",
   "metadata": {},
   "source": [
    "# 10 fold"
   ]
  },
  {
   "cell_type": "code",
   "execution_count": 1,
   "id": "similar-pound",
   "metadata": {},
   "outputs": [],
   "source": [
    "from PIL import Image\n",
    "import numpy as np\n",
    "from reduce_dim import PCA, LDA\n",
    "from utils_for_data import *\n",
    "from functions import *\n",
    "import matplotlib.pyplot as plt\n",
    "import os\n",
    "import time\n",
    "from tqdm.notebook import tqdm"
   ]
  },
  {
   "cell_type": "markdown",
   "id": "e255bd8e-75d9-4a66-abf7-c630659f9e0d",
   "metadata": {},
   "source": [
    "## Make Dataset"
   ]
  },
  {
   "cell_type": "code",
   "execution_count": 2,
   "id": "boring-harris",
   "metadata": {},
   "outputs": [],
   "source": [
    "data = []\n",
    "for i in range(1,41):\n",
    "    path = './att_faces/s'+str(i)\n",
    "    file_list = os.listdir(path)\n",
    "    \n",
    "    for j in range(10):\n",
    "        with Image.open(path+\"/\"+file_list[j]) as im:\n",
    "            a = np.array(im)\n",
    "            a = a.reshape(112*92,)\n",
    "            data.append(a)\n",
    "data = np.asarray(data)"
   ]
  },
  {
   "cell_type": "code",
   "execution_count": 3,
   "id": "occupational-spanking",
   "metadata": {},
   "outputs": [],
   "source": [
    "# 데이터 나누기\n",
    "trunc_data = np.split(data,10,axis=0)"
   ]
  },
  {
   "cell_type": "markdown",
   "id": "140e6ccf-9e73-48af-b36e-0b1565d36646",
   "metadata": {},
   "source": [
    "## Set dimensions"
   ]
  },
  {
   "cell_type": "code",
   "execution_count": 4,
   "id": "front-world",
   "metadata": {},
   "outputs": [],
   "source": [
    "dimension_num = 5"
   ]
  },
  {
   "cell_type": "markdown",
   "id": "416db716-06e5-4a1a-9e3e-f77b9b6a9de0",
   "metadata": {},
   "source": [
    "## Compute Accuracy "
   ]
  },
  {
   "cell_type": "code",
   "execution_count": 5,
   "id": "mathematical-sweden",
   "metadata": {},
   "outputs": [
    {
     "data": {
      "application/json": {
       "ascii": false,
       "bar_format": null,
       "colour": null,
       "elapsed": 0.032660722732543945,
       "initial": 0,
       "n": 0,
       "ncols": null,
       "nrows": 27,
       "postfix": null,
       "prefix": "",
       "rate": null,
       "total": 10,
       "unit": "it",
       "unit_divisor": 1000,
       "unit_scale": false
      },
      "application/vnd.jupyter.widget-view+json": {
       "model_id": "466c787fa30b4fa3ae0ef6e045d918e9",
       "version_major": 2,
       "version_minor": 0
      },
      "text/plain": [
       "  0%|          | 0/10 [00:00<?, ?it/s]"
      ]
     },
     "metadata": {},
     "output_type": "display_data"
    }
   ],
   "source": [
    "# 10 fold 정확도 저장\n",
    "all_pca_acc =[]\n",
    "all_lda_acc = []\n",
    "\n",
    "# 10 fold\n",
    "for i in tqdm(range(10)):\n",
    "    test = np.array(trunc_data[i])\n",
    "    \n",
    "    train = []\n",
    "    for j in range(10):\n",
    "        if j!=i:\n",
    "            train.append(trunc_data[j])\n",
    "    train = np.array(train)\n",
    "    train = train.reshape(-1,10304)\n",
    "    \n",
    "    # Generate pca, lda model\n",
    "    pca = PCA(num=dimension_num)\n",
    "    lda = LDA(num=dimension_num)\n",
    "    \n",
    "    # fit \n",
    "    pca.fit(train)\n",
    "    lda.fit(train)\n",
    "    \n",
    "    # gallery, query 나누기\n",
    "    gallery, query = divide(test)\n",
    "    \n",
    "    # gallery, query transform\n",
    "    pca_gallery_transformed = pca.transform(gallery-mean(gallery))\n",
    "    pca_query_transformed = pca.transform(query-mean(query))\n",
    "    lda_gallery_transformed = lda.transform(gallery)\n",
    "    lda_query_transformed = lda.transform(query)\n",
    "    \n",
    "    # similarity 계산\n",
    "    pca_gallery_transformed = pca_gallery_transformed.reshape(28,1,5)\n",
    "    pca_query_transformed = pca_query_transformed.reshape(1,12,5)\n",
    "    lda_gallery_transformed = lda_gallery_transformed.reshape(28,1,5)\n",
    "    lda_query_transformed = lda_query_transformed.reshape(1,12,5)\n",
    "    \n",
    "    pca_similarity = np.sum(np.square(pca_query_transformed-pca_gallery_transformed),axis=-1)\n",
    "    pca_similarity = pca_similarity.T\n",
    "    \n",
    "    lda_similarity = np.sum(np.square(lda_query_transformed-lda_gallery_transformed),axis=-1)\n",
    "    lda_similarity = lda_similarity.T\n",
    "    \n",
    "    # acc 계산\n",
    "    pca_result, pca_acc = compute_result_and_accuracy(pca_similarity)\n",
    "    all_pca_acc.append(pca_acc)\n",
    "    \n",
    "    lda_result, lda_acc = compute_result_and_accuracy(lda_similarity)\n",
    "    all_lda_acc.append(lda_acc)"
   ]
  },
  {
   "cell_type": "markdown",
   "id": "24177a0a-a522-450a-988c-43efa3ab6ac7",
   "metadata": {},
   "source": [
    "## Average Accuracy"
   ]
  },
  {
   "cell_type": "markdown",
   "id": "9fab3fda-4a64-4a23-acc3-34551880b259",
   "metadata": {},
   "source": [
    "- PCA"
   ]
  },
  {
   "cell_type": "code",
   "execution_count": 6,
   "id": "elegant-applicant",
   "metadata": {},
   "outputs": [
    {
     "name": "stdout",
     "output_type": "stream",
     "text": [
      "60.23809523809524\n"
     ]
    }
   ],
   "source": [
    "sum_ = 0\n",
    "for i in range(10):\n",
    "    for j in range(4):\n",
    "        sum_ += all_pca_acc[i][j][j]\n",
    "print(sum_/40 )"
   ]
  },
  {
   "cell_type": "markdown",
   "id": "86a21a96-2f20-4b40-a404-22610a0ced9e",
   "metadata": {},
   "source": [
    "- LDA"
   ]
  },
  {
   "cell_type": "code",
   "execution_count": 7,
   "id": "460eacff-cf91-4419-b41f-e374fd439f53",
   "metadata": {},
   "outputs": [
    {
     "name": "stdout",
     "output_type": "stream",
     "text": [
      "82.38095238095238\n"
     ]
    }
   ],
   "source": [
    "sum_ = 0\n",
    "for i in range(10):\n",
    "    for j in range(4):\n",
    "        sum_ += all_lda_acc[i][j][j]\n",
    "print(sum_/40 )"
   ]
  }
 ],
 "metadata": {
  "kernelspec": {
   "display_name": "Python 3 (ipykernel)",
   "language": "python",
   "name": "python3"
  },
  "language_info": {
   "codemirror_mode": {
    "name": "ipython",
    "version": 3
   },
   "file_extension": ".py",
   "mimetype": "text/x-python",
   "name": "python",
   "nbconvert_exporter": "python",
   "pygments_lexer": "ipython3",
   "version": "3.10.4"
  }
 },
 "nbformat": 4,
 "nbformat_minor": 5
}
